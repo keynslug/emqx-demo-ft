{
 "cells": [
  {
   "attachments": {},
   "cell_type": "markdown",
   "metadata": {},
   "source": [
    "# S3 CLI"
   ]
  },
  {
   "cell_type": "code",
   "execution_count": 7,
   "metadata": {},
   "outputs": [
    {
     "name": "stdout",
     "output_type": "stream",
     "text": [
      "s3://keynslug-emqx-s3-demo/\n",
      "Initiated\tPath\tId\n"
     ]
    }
   ],
   "source": [
    "! s3cmd multipart s3://keynslug-emqx-s3-demo"
   ]
  },
  {
   "cell_type": "code",
   "execution_count": 5,
   "metadata": {},
   "outputs": [
    {
     "name": "stdout",
     "output_type": "stream",
     "text": [
      "2023-04-05 16:57      2156579  s3://keynslug-emqx-s3-demo/demo-client/file-4242/riaklil-en.pdf\n",
      "2023-04-05 18:24         1262  s3://keynslug-emqx-s3-demo/demo-client/file-4242/test.txt\n",
      "2023-04-05 18:23      2156579  s3://keynslug-emqx-s3-demo/demo-client/file-pdf/riaklil-en.pdf\n"
     ]
    }
   ],
   "source": [
    "! s3cmd ls --recursive s3://keynslug-emqx-s3-demo"
   ]
  },
  {
   "cell_type": "code",
   "execution_count": 6,
   "metadata": {},
   "outputs": [
    {
     "name": "stdout",
     "output_type": "stream",
     "text": [
      "s3://keynslug-emqx-s3-demo/demo-client/file-pdf/riaklil-en.pdf (object):\n",
      "   File size: 2156579\n",
      "   Last mod:  Wed, 05 Apr 2023 18:23:46 GMT\n",
      "   MIME type: \n",
      "   Storage:   STANDARD\n",
      "   MD5 sum:   5c2f97a100817fe51a38765756ce35de\n",
      "   SSE:       AES256\n",
      "   Policy:    none\n",
      "   CORS:      none\n",
      "   ACL:       encube.ul: FULL_CONTROL\n",
      "   ACL:       *anon*: READ\n",
      "   URL:       http://keynslug-emqx-s3-demo.s3.amazonaws.com/demo-client/file-pdf/riaklil-en.pdf\n",
      "   x-amz-meta-filemeta-vsn: 1\n",
      "   x-amz-meta-clientid: demo-client\n",
      "   x-amz-meta-fileid: file-pdf\n",
      "   x-amz-meta-filemeta: {\"size\":2156579,\"name\":\"riaklil-en.pdf\",\"checksum\":\"71858FA34C517BE2DDF78F18F0B9D4AF59A2B7E45D9407BF6B98944B00DEB411\"}\n"
     ]
    }
   ],
   "source": [
    "! s3cmd info s3://keynslug-emqx-s3-demo/demo-client/file-pdf/riaklil-en.pdf"
   ]
  }
 ],
 "metadata": {
  "kernelspec": {
   "display_name": "Python 3 (ipykernel)",
   "language": "python",
   "name": "python3"
  },
  "language_info": {
   "codemirror_mode": {
    "name": "ipython",
    "version": 3
   },
   "file_extension": ".py",
   "mimetype": "text/x-python",
   "name": "python",
   "nbconvert_exporter": "python",
   "pygments_lexer": "ipython3",
   "version": "3.10.10"
  },
  "orig_nbformat": 4
 },
 "nbformat": 4,
 "nbformat_minor": 2
}
