{
 "cells": [
  {
   "attachments": {},
   "cell_type": "markdown",
   "metadata": {},
   "source": [
    "## S3 CLI"
   ]
  },
  {
   "cell_type": "code",
   "execution_count": 18,
   "metadata": {},
   "outputs": [
    {
     "name": "stdout",
     "output_type": "stream",
     "text": [
      "s3://keynslug-emqx-s3-demo/\n",
      "Initiated\tPath\tId\n",
      "2023-04-06T09:40:21.000Z\ts3://keynslug-emqx-s3-demo/demo-client/file-movie/tears_of_steel_1080p.80.webm\tkCEmYc.arnIz1grQvUl2hp_1zENhPO1TX_rauWKq2R2Sqe06TuSEP.CdCxOBUx.QDy.4JrkGom3bLBxjziVoBEbQfLwdHSffRxdHdj.4vjcCikNI0IaRPI4BVNoEq9mk\n"
     ]
    }
   ],
   "source": [
    "! s3cmd multipart s3://keynslug-emqx-s3-demo"
   ]
  },
  {
   "cell_type": "code",
   "execution_count": 20,
   "metadata": {},
   "outputs": [
    {
     "name": "stdout",
     "output_type": "stream",
     "text": [
      "2023-04-06 09:36         1262  s3://keynslug-emqx-s3-demo/demo-client/file-4242/test.txt\n",
      "2023-04-06 09:40     58828970  s3://keynslug-emqx-s3-demo/demo-client/file-movie/tears_of_steel_1080p.80.webm\n",
      "2023-04-06 09:36      2156579  s3://keynslug-emqx-s3-demo/demo-client/file-pdf/riaklil-en.pdf\n"
     ]
    }
   ],
   "source": [
    "! s3cmd ls --recursive s3://keynslug-emqx-s3-demo"
   ]
  },
  {
   "cell_type": "code",
   "execution_count": 16,
   "metadata": {},
   "outputs": [
    {
     "name": "stdout",
     "output_type": "stream",
     "text": [
      "s3://keynslug-emqx-s3-demo/demo-client/file-pdf/riaklil-en.pdf (object):\n",
      "   File size: 2156579\n",
      "   Last mod:  Thu, 06 Apr 2023 09:14:09 GMT\n",
      "   MIME type: \n",
      "   Storage:   STANDARD\n",
      "   MD5 sum:   5c2f97a100817fe51a38765756ce35de\n",
      "   SSE:       AES256\n",
      "   Policy:    none\n",
      "   CORS:      none\n",
      "   ACL:       encube.ul: FULL_CONTROL\n",
      "   ACL:       *anon*: READ\n",
      "   URL:       http://keynslug-emqx-s3-demo.s3.amazonaws.com/demo-client/file-pdf/riaklil-en.pdf\n",
      "   x-amz-meta-filemeta-vsn: 1\n",
      "   x-amz-meta-clientid: demo-client\n",
      "   x-amz-meta-fileid: file-pdf\n",
      "   x-amz-meta-filemeta: {\"size\":2156579,\"name\":\"riaklil-en.pdf\",\"checksum\":\"71858FA34C517BE2DDF78F18F0B9D4AF59A2B7E45D9407BF6B98944B00DEB411\"}\n"
     ]
    }
   ],
   "source": [
    "! s3cmd info s3://keynslug-emqx-s3-demo/demo-client/file-pdf/riaklil-en.pdf"
   ]
  },
  {
   "attachments": {},
   "cell_type": "markdown",
   "metadata": {},
   "source": [
    "## FS Tree"
   ]
  },
  {
   "attachments": {},
   "cell_type": "markdown",
   "metadata": {},
   "source": [
    "Here we might occasionally see segments of those transfers that are still in progress. As soon as those transfers finish, these segments will be collected and the storage space will be freed."
   ]
  },
  {
   "cell_type": "code",
   "execution_count": 19,
   "metadata": {},
   "outputs": [
    {
     "name": "stdout",
     "output_type": "stream",
     "text": [
      "\u001b[01;34mrun/data/file-transfer\u001b[0m\n",
      "├── \u001b[01;34mexports\u001b[0m\n",
      "│   ├── \u001b[01;34m36\u001b[0m\n",
      "│   │   └── \u001b[01;34m26\u001b[0m\n",
      "│   │       └── \u001b[01;34m7CDF642D027E224CBAC8BC80F1EAEEA77859\u001b[0m\n",
      "│   │           └── \u001b[01;34mdemo-client\u001b[0m\n",
      "│   │               └── \u001b[01;34mfile-pdf\u001b[0m\n",
      "│   │                   ├── riaklil-en.pdf\n",
      "│   │                   └── riaklil-en.pdf.MANIFEST.json\n",
      "│   ├── \u001b[01;34m9A\u001b[0m\n",
      "│   │   └── \u001b[01;34m65\u001b[0m\n",
      "│   │       └── \u001b[01;34m607A7007317C32B281F7A5D32991585A23EA\u001b[0m\n",
      "│   │           └── \u001b[01;34mdemo-client\u001b[0m\n",
      "│   │               └── \u001b[01;34mfile-4242\u001b[0m\n",
      "│   │                   ├── test.txt\n",
      "│   │                   └── test.txt.MANIFEST.json\n",
      "│   └── \u001b[01;34mtmp\u001b[0m\n",
      "└── \u001b[01;34msegments\u001b[0m\n",
      "    └── \u001b[01;34mdemo-client\u001b[0m\n",
      "        ├── \u001b[01;34mfile-4242\u001b[0m\n",
      "        ├── \u001b[01;34mfile-movie\u001b[0m\n",
      "        │   ├── \u001b[01;34mfrags\u001b[0m\n",
      "        │   │   ├── MANIFEST.json\n",
      "        │   │   ├── SEG.0.409600\n",
      "        │   │   ├── SEG.10240000.409600\n",
      "        │   │   ├── SEG.10649600.409600\n",
      "        │   │   ├── SEG.11059200.409600\n",
      "        │   │   ├── SEG.11468800.409600\n",
      "        │   │   ├── SEG.11878400.409600\n",
      "        │   │   ├── SEG.12288000.409600\n",
      "        │   │   ├── SEG.1228800.409600\n",
      "        │   │   ├── SEG.12697600.409600\n",
      "        │   │   ├── SEG.13107200.409600\n",
      "        │   │   ├── SEG.13516800.409600\n",
      "        │   │   ├── SEG.13926400.409600\n",
      "        │   │   ├── SEG.14336000.409600\n",
      "        │   │   ├── SEG.14745600.409600\n",
      "        │   │   ├── SEG.15155200.409600\n",
      "        │   │   ├── SEG.15564800.409600\n",
      "        │   │   ├── SEG.15974400.409600\n",
      "        │   │   ├── SEG.16384000.409600\n",
      "        │   │   ├── SEG.1638400.409600\n",
      "        │   │   ├── SEG.16793600.409600\n",
      "        │   │   ├── SEG.17203200.409600\n",
      "        │   │   ├── SEG.17612800.409600\n",
      "        │   │   ├── SEG.18022400.409600\n",
      "        │   │   ├── SEG.18432000.409600\n",
      "        │   │   ├── SEG.18841600.409600\n",
      "        │   │   ├── SEG.19251200.409600\n",
      "        │   │   ├── SEG.19660800.409600\n",
      "        │   │   ├── SEG.20070400.409600\n",
      "        │   │   ├── SEG.20480000.409600\n",
      "        │   │   ├── SEG.2048000.409600\n",
      "        │   │   ├── SEG.20889600.409600\n",
      "        │   │   ├── SEG.21299200.409600\n",
      "        │   │   ├── SEG.21708800.409600\n",
      "        │   │   ├── SEG.22118400.409600\n",
      "        │   │   ├── SEG.22528000.409600\n",
      "        │   │   ├── SEG.22937600.409600\n",
      "        │   │   ├── SEG.23347200.409600\n",
      "        │   │   ├── SEG.23756800.409600\n",
      "        │   │   ├── SEG.24166400.409600\n",
      "        │   │   ├── SEG.24576000.409600\n",
      "        │   │   ├── SEG.2457600.409600\n",
      "        │   │   ├── SEG.24985600.409600\n",
      "        │   │   ├── SEG.25395200.409600\n",
      "        │   │   ├── SEG.25804800.409600\n",
      "        │   │   ├── SEG.26214400.409600\n",
      "        │   │   ├── SEG.26624000.409600\n",
      "        │   │   ├── SEG.27033600.409600\n",
      "        │   │   ├── SEG.27443200.409600\n",
      "        │   │   ├── SEG.27852800.409600\n",
      "        │   │   ├── SEG.28262400.409600\n",
      "        │   │   ├── SEG.28672000.409600\n",
      "        │   │   ├── SEG.2867200.409600\n",
      "        │   │   ├── SEG.29081600.409600\n",
      "        │   │   ├── SEG.29491200.409600\n",
      "        │   │   ├── SEG.29900800.409600\n",
      "        │   │   ├── SEG.30310400.409600\n",
      "        │   │   ├── SEG.30720000.409600\n",
      "        │   │   ├── SEG.31129600.409600\n",
      "        │   │   ├── SEG.31539200.409600\n",
      "        │   │   ├── SEG.31948800.409600\n",
      "        │   │   ├── SEG.32358400.409600\n",
      "        │   │   ├── SEG.32768000.409600\n",
      "        │   │   ├── SEG.3276800.409600\n",
      "        │   │   ├── SEG.33177600.409600\n",
      "        │   │   ├── SEG.33587200.409600\n",
      "        │   │   ├── SEG.33996800.409600\n",
      "        │   │   ├── SEG.34406400.409600\n",
      "        │   │   ├── SEG.34816000.409600\n",
      "        │   │   ├── SEG.35225600.409600\n",
      "        │   │   ├── SEG.35635200.409600\n",
      "        │   │   ├── SEG.36044800.409600\n",
      "        │   │   ├── SEG.36454400.409600\n",
      "        │   │   ├── SEG.36864000.409600\n",
      "        │   │   ├── SEG.3686400.409600\n",
      "        │   │   ├── SEG.37273600.409600\n",
      "        │   │   ├── SEG.37683200.409600\n",
      "        │   │   ├── SEG.38092800.409600\n",
      "        │   │   ├── SEG.38502400.409600\n",
      "        │   │   ├── SEG.38912000.409600\n",
      "        │   │   ├── SEG.39321600.409600\n",
      "        │   │   ├── SEG.39731200.409600\n",
      "        │   │   ├── SEG.40140800.409600\n",
      "        │   │   ├── SEG.40550400.409600\n",
      "        │   │   ├── SEG.40960000.409600\n",
      "        │   │   ├── SEG.4096000.409600\n",
      "        │   │   ├── SEG.409600.409600\n",
      "        │   │   ├── SEG.41369600.409600\n",
      "        │   │   ├── SEG.41779200.409600\n",
      "        │   │   ├── SEG.42188800.409600\n",
      "        │   │   ├── SEG.42598400.409600\n",
      "        │   │   ├── SEG.43008000.409600\n",
      "        │   │   ├── SEG.43417600.409600\n",
      "        │   │   ├── SEG.43827200.409600\n",
      "        │   │   ├── SEG.44236800.409600\n",
      "        │   │   ├── SEG.44646400.409600\n",
      "        │   │   ├── SEG.45056000.409600\n",
      "        │   │   ├── SEG.4505600.409600\n",
      "        │   │   ├── SEG.45465600.409600\n",
      "        │   │   ├── SEG.45875200.409600\n",
      "        │   │   ├── SEG.46284800.409600\n",
      "        │   │   ├── SEG.46694400.409600\n",
      "        │   │   ├── SEG.47104000.409600\n",
      "        │   │   ├── SEG.47513600.409600\n",
      "        │   │   ├── SEG.47923200.409600\n",
      "        │   │   ├── SEG.48332800.409600\n",
      "        │   │   ├── SEG.48742400.409600\n",
      "        │   │   ├── SEG.49152000.409600\n",
      "        │   │   ├── SEG.4915200.409600\n",
      "        │   │   ├── SEG.49561600.409600\n",
      "        │   │   ├── SEG.49971200.409600\n",
      "        │   │   ├── SEG.50380800.409600\n",
      "        │   │   ├── SEG.50790400.409600\n",
      "        │   │   ├── SEG.51200000.409600\n",
      "        │   │   ├── SEG.51609600.409600\n",
      "        │   │   ├── SEG.52019200.409600\n",
      "        │   │   ├── SEG.52428800.409600\n",
      "        │   │   ├── SEG.52838400.409600\n",
      "        │   │   ├── SEG.53248000.409600\n",
      "        │   │   ├── SEG.5324800.409600\n",
      "        │   │   ├── SEG.53657600.409600\n",
      "        │   │   ├── SEG.54067200.409600\n",
      "        │   │   ├── SEG.54476800.409600\n",
      "        │   │   ├── SEG.54886400.409600\n",
      "        │   │   ├── SEG.55296000.409600\n",
      "        │   │   ├── SEG.55705600.409600\n",
      "        │   │   ├── SEG.56115200.409600\n",
      "        │   │   ├── SEG.56524800.409600\n",
      "        │   │   ├── SEG.56934400.409600\n",
      "        │   │   ├── SEG.57344000.409600\n",
      "        │   │   ├── SEG.5734400.409600\n",
      "        │   │   ├── SEG.57753600.409600\n",
      "        │   │   ├── SEG.58163200.409600\n",
      "        │   │   ├── SEG.58572800.256170\n",
      "        │   │   ├── SEG.6144000.409600\n",
      "        │   │   ├── SEG.6553600.409600\n",
      "        │   │   ├── SEG.6963200.409600\n",
      "        │   │   ├── SEG.7372800.409600\n",
      "        │   │   ├── SEG.7782400.409600\n",
      "        │   │   ├── SEG.8192000.409600\n",
      "        │   │   ├── SEG.819200.409600\n",
      "        │   │   ├── SEG.8601600.409600\n",
      "        │   │   ├── SEG.9011200.409600\n",
      "        │   │   ├── SEG.9420800.409600\n",
      "        │   │   └── SEG.9830400.409600\n",
      "        │   └── \u001b[01;34mtmp\u001b[0m\n",
      "        └── \u001b[01;34mfile-pdf\u001b[0m\n",
      "\n",
      "20 directories, 149 files\n"
     ]
    }
   ],
   "source": [
    "! tree run/data/file-transfer"
   ]
  }
 ],
 "metadata": {
  "kernelspec": {
   "display_name": "Python 3 (ipykernel)",
   "language": "python",
   "name": "python3"
  },
  "language_info": {
   "codemirror_mode": {
    "name": "ipython",
    "version": 3
   },
   "file_extension": ".py",
   "mimetype": "text/x-python",
   "name": "python",
   "nbconvert_exporter": "python",
   "pygments_lexer": "ipython3",
   "version": "3.10.10"
  },
  "orig_nbformat": 4
 },
 "nbformat": 4,
 "nbformat_minor": 2
}
